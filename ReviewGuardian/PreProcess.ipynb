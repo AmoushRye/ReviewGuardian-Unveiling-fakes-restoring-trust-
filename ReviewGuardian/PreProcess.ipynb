{
 "cells": [
  {
   "cell_type": "code",
   "execution_count": 1,
   "id": "d5615fcc",
   "metadata": {},
   "outputs": [],
   "source": [
    "#Dear Teammates this are some of the concepts you need to understand, also I have used comment alongside the code so that you can understand whats happening \n",
    "\n",
    "# Text preprocessing in NLP is like preparing raw text data so that it's easier for a computer to understand and analyze. It involves doing things like:\n",
    "\n",
    "#     Lowercasing: Making all letters lowercase so that \"hello\" and \"Hello\" are treated the same.\n",
    "\n",
    "#     Tokenization: Breaking down sentences into individual words or \"tokens.\"\n",
    "\n",
    "#     Removing Punctuation and Special Characters: Getting rid of unnecessary symbols like commas or exclamation marks.\n",
    "\n",
    "#     Removing Stopwords: Removing common words (like \"the\" or \"and\") that don't add much meaning.\n",
    "\n",
    "#     Stemming and Lemmatization: Simplifying words to their basic form (like turning \"running\" into \"run\")."
   ]
  },
  {
   "cell_type": "code",
   "execution_count": 56,
   "id": "095b7e6c",
   "metadata": {},
   "outputs": [],
   "source": [
    "#importing necessary libraries\n",
    "import numpy as np\n",
    "import pandas as pd\n",
    "import string"
   ]
  },
  {
   "cell_type": "code",
   "execution_count": null,
   "id": "ab395418",
   "metadata": {},
   "outputs": [],
   "source": [
    "#using natural language toolkit for various use later in the preprocessing part\n",
    "import nltk\n",
    "nltk.download('punkt')\n",
    "nltk.download('stopwords')\n"
   ]
  },
  {
   "cell_type": "code",
   "execution_count": 55,
   "id": "d6a672e7",
   "metadata": {},
   "outputs": [],
   "source": [
    "from nltk.corpus import stopwords\n",
    "from nltk import word_tokenize\n",
    "from nltk.stem import PorterStemmer\n",
    "from nltk.stem import WordNetLemmatizer"
   ]
  },
  {
   "cell_type": "code",
   "execution_count": 5,
   "id": "019c6015",
   "metadata": {},
   "outputs": [],
   "source": [
    "df = pd.read_csv(\"fake reviews dataset.csv\")"
   ]
  },
  {
   "cell_type": "code",
   "execution_count": 6,
   "id": "ac54467b",
   "metadata": {},
   "outputs": [
    {
     "data": {
      "text/html": [
       "<div>\n",
       "<style scoped>\n",
       "    .dataframe tbody tr th:only-of-type {\n",
       "        vertical-align: middle;\n",
       "    }\n",
       "\n",
       "    .dataframe tbody tr th {\n",
       "        vertical-align: top;\n",
       "    }\n",
       "\n",
       "    .dataframe thead th {\n",
       "        text-align: right;\n",
       "    }\n",
       "</style>\n",
       "<table border=\"1\" class=\"dataframe\">\n",
       "  <thead>\n",
       "    <tr style=\"text-align: right;\">\n",
       "      <th></th>\n",
       "      <th>category</th>\n",
       "      <th>rating</th>\n",
       "      <th>label</th>\n",
       "      <th>text_</th>\n",
       "    </tr>\n",
       "  </thead>\n",
       "  <tbody>\n",
       "    <tr>\n",
       "      <th>0</th>\n",
       "      <td>Home_and_Kitchen_5</td>\n",
       "      <td>5.0</td>\n",
       "      <td>CG</td>\n",
       "      <td>Love this!  Well made, sturdy, and very comfor...</td>\n",
       "    </tr>\n",
       "    <tr>\n",
       "      <th>1</th>\n",
       "      <td>Home_and_Kitchen_5</td>\n",
       "      <td>5.0</td>\n",
       "      <td>CG</td>\n",
       "      <td>love it, a great upgrade from the original.  I...</td>\n",
       "    </tr>\n",
       "    <tr>\n",
       "      <th>2</th>\n",
       "      <td>Home_and_Kitchen_5</td>\n",
       "      <td>5.0</td>\n",
       "      <td>CG</td>\n",
       "      <td>This pillow saved my back. I love the look and...</td>\n",
       "    </tr>\n",
       "    <tr>\n",
       "      <th>3</th>\n",
       "      <td>Home_and_Kitchen_5</td>\n",
       "      <td>1.0</td>\n",
       "      <td>CG</td>\n",
       "      <td>Missing information on how to use it, but it i...</td>\n",
       "    </tr>\n",
       "    <tr>\n",
       "      <th>4</th>\n",
       "      <td>Home_and_Kitchen_5</td>\n",
       "      <td>5.0</td>\n",
       "      <td>CG</td>\n",
       "      <td>Very nice set. Good quality. We have had the s...</td>\n",
       "    </tr>\n",
       "  </tbody>\n",
       "</table>\n",
       "</div>"
      ],
      "text/plain": [
       "             category  rating label  \\\n",
       "0  Home_and_Kitchen_5     5.0    CG   \n",
       "1  Home_and_Kitchen_5     5.0    CG   \n",
       "2  Home_and_Kitchen_5     5.0    CG   \n",
       "3  Home_and_Kitchen_5     1.0    CG   \n",
       "4  Home_and_Kitchen_5     5.0    CG   \n",
       "\n",
       "                                               text_  \n",
       "0  Love this!  Well made, sturdy, and very comfor...  \n",
       "1  love it, a great upgrade from the original.  I...  \n",
       "2  This pillow saved my back. I love the look and...  \n",
       "3  Missing information on how to use it, but it i...  \n",
       "4  Very nice set. Good quality. We have had the s...  "
      ]
     },
     "execution_count": 6,
     "metadata": {},
     "output_type": "execute_result"
    }
   ],
   "source": [
    "df.head() #gives you the first five rows"
   ]
  },
  {
   "cell_type": "code",
   "execution_count": 7,
   "id": "9c23c928",
   "metadata": {},
   "outputs": [
    {
     "data": {
      "text/plain": [
       "category    0\n",
       "rating      0\n",
       "label       0\n",
       "text_       0\n",
       "dtype: int64"
      ]
     },
     "execution_count": 7,
     "metadata": {},
     "output_type": "execute_result"
    }
   ],
   "source": [
    "df.isnull().sum()\n",
    "#we got output as no missing values in the dataset"
   ]
  },
  {
   "cell_type": "code",
   "execution_count": 8,
   "id": "8a54e086",
   "metadata": {},
   "outputs": [
    {
     "data": {
      "text/plain": [
       "Index(['category', 'rating', 'label', 'text_'], dtype='object')"
      ]
     },
     "execution_count": 8,
     "metadata": {},
     "output_type": "execute_result"
    }
   ],
   "source": [
    "df.columns #gives you the name of the columns present in the dataset"
   ]
  },
  {
   "cell_type": "code",
   "execution_count": 9,
   "id": "281a328c",
   "metadata": {},
   "outputs": [
    {
     "data": {
      "text/plain": [
       "rating\n",
       "5.0    24559\n",
       "4.0     7965\n",
       "3.0     3786\n",
       "1.0     2155\n",
       "2.0     1967\n",
       "Name: count, dtype: int64"
      ]
     },
     "execution_count": 9,
     "metadata": {},
     "output_type": "execute_result"
    }
   ],
   "source": [
    "df['rating'].value_counts() #this will give you count of every rating"
   ]
  },
  {
   "cell_type": "code",
   "execution_count": 10,
   "id": "83f85614",
   "metadata": {},
   "outputs": [],
   "source": [
    "#the below function will remove punctuation and also remove all stopwords\n",
    "def clean_text(text):\n",
    "    nopunc = [w for w in text if w not in string.punctuation]\n",
    "    nopunc = ''.join(nopunc)\n",
    "    return  ' '.join([word for word in nopunc.split() if word.lower() not in stopwords.words('english')])\n"
   ]
  },
  {
   "cell_type": "code",
   "execution_count": 11,
   "id": "74462340",
   "metadata": {},
   "outputs": [],
   "source": [
    "#when we do this it will add a newcolumn to the dataset with column name afterclean and keep all those texts aftering going through the clean_text function\n",
    "#running this can take a couple of time \n",
    "#have patience guys :)\n",
    "df['afterclean'] = df['text_'].apply(lambda x:clean_text(x))"
   ]
  },
  {
   "cell_type": "code",
   "execution_count": 12,
   "id": "6ac279a2",
   "metadata": {},
   "outputs": [
    {
     "data": {
      "text/html": [
       "<div>\n",
       "<style scoped>\n",
       "    .dataframe tbody tr th:only-of-type {\n",
       "        vertical-align: middle;\n",
       "    }\n",
       "\n",
       "    .dataframe tbody tr th {\n",
       "        vertical-align: top;\n",
       "    }\n",
       "\n",
       "    .dataframe thead th {\n",
       "        text-align: right;\n",
       "    }\n",
       "</style>\n",
       "<table border=\"1\" class=\"dataframe\">\n",
       "  <thead>\n",
       "    <tr style=\"text-align: right;\">\n",
       "      <th></th>\n",
       "      <th>category</th>\n",
       "      <th>rating</th>\n",
       "      <th>label</th>\n",
       "      <th>text_</th>\n",
       "      <th>afterclean</th>\n",
       "    </tr>\n",
       "  </thead>\n",
       "  <tbody>\n",
       "    <tr>\n",
       "      <th>0</th>\n",
       "      <td>Home_and_Kitchen_5</td>\n",
       "      <td>5.0</td>\n",
       "      <td>CG</td>\n",
       "      <td>Love this!  Well made, sturdy, and very comfor...</td>\n",
       "      <td>Love Well made sturdy comfortable love itVery ...</td>\n",
       "    </tr>\n",
       "    <tr>\n",
       "      <th>1</th>\n",
       "      <td>Home_and_Kitchen_5</td>\n",
       "      <td>5.0</td>\n",
       "      <td>CG</td>\n",
       "      <td>love it, a great upgrade from the original.  I...</td>\n",
       "      <td>love great upgrade original Ive mine couple years</td>\n",
       "    </tr>\n",
       "    <tr>\n",
       "      <th>2</th>\n",
       "      <td>Home_and_Kitchen_5</td>\n",
       "      <td>5.0</td>\n",
       "      <td>CG</td>\n",
       "      <td>This pillow saved my back. I love the look and...</td>\n",
       "      <td>pillow saved back love look feel pillow</td>\n",
       "    </tr>\n",
       "    <tr>\n",
       "      <th>3</th>\n",
       "      <td>Home_and_Kitchen_5</td>\n",
       "      <td>1.0</td>\n",
       "      <td>CG</td>\n",
       "      <td>Missing information on how to use it, but it i...</td>\n",
       "      <td>Missing information use great product price</td>\n",
       "    </tr>\n",
       "    <tr>\n",
       "      <th>4</th>\n",
       "      <td>Home_and_Kitchen_5</td>\n",
       "      <td>5.0</td>\n",
       "      <td>CG</td>\n",
       "      <td>Very nice set. Good quality. We have had the s...</td>\n",
       "      <td>nice set Good quality set two months</td>\n",
       "    </tr>\n",
       "  </tbody>\n",
       "</table>\n",
       "</div>"
      ],
      "text/plain": [
       "             category  rating label  \\\n",
       "0  Home_and_Kitchen_5     5.0    CG   \n",
       "1  Home_and_Kitchen_5     5.0    CG   \n",
       "2  Home_and_Kitchen_5     5.0    CG   \n",
       "3  Home_and_Kitchen_5     1.0    CG   \n",
       "4  Home_and_Kitchen_5     5.0    CG   \n",
       "\n",
       "                                               text_  \\\n",
       "0  Love this!  Well made, sturdy, and very comfor...   \n",
       "1  love it, a great upgrade from the original.  I...   \n",
       "2  This pillow saved my back. I love the look and...   \n",
       "3  Missing information on how to use it, but it i...   \n",
       "4  Very nice set. Good quality. We have had the s...   \n",
       "\n",
       "                                          afterclean  \n",
       "0  Love Well made sturdy comfortable love itVery ...  \n",
       "1  love great upgrade original Ive mine couple years  \n",
       "2            pillow saved back love look feel pillow  \n",
       "3        Missing information use great product price  \n",
       "4               nice set Good quality set two months  "
      ]
     },
     "execution_count": 12,
     "metadata": {},
     "output_type": "execute_result"
    }
   ],
   "source": [
    "df.head() #you can see here the afterclean column has been added it contains the clean texts"
   ]
  },
  {
   "cell_type": "code",
   "execution_count": 13,
   "id": "cf3dd595",
   "metadata": {},
   "outputs": [
    {
     "data": {
      "text/html": [
       "<div>\n",
       "<style scoped>\n",
       "    .dataframe tbody tr th:only-of-type {\n",
       "        vertical-align: middle;\n",
       "    }\n",
       "\n",
       "    .dataframe tbody tr th {\n",
       "        vertical-align: top;\n",
       "    }\n",
       "\n",
       "    .dataframe thead th {\n",
       "        text-align: right;\n",
       "    }\n",
       "</style>\n",
       "<table border=\"1\" class=\"dataframe\">\n",
       "  <thead>\n",
       "    <tr style=\"text-align: right;\">\n",
       "      <th></th>\n",
       "      <th>text_</th>\n",
       "      <th>afterclean</th>\n",
       "    </tr>\n",
       "  </thead>\n",
       "  <tbody>\n",
       "    <tr>\n",
       "      <th>0</th>\n",
       "      <td>Love this!  Well made, sturdy, and very comfor...</td>\n",
       "      <td>Love Well made sturdy comfortable love itVery ...</td>\n",
       "    </tr>\n",
       "    <tr>\n",
       "      <th>1</th>\n",
       "      <td>love it, a great upgrade from the original.  I...</td>\n",
       "      <td>love great upgrade original Ive mine couple years</td>\n",
       "    </tr>\n",
       "    <tr>\n",
       "      <th>2</th>\n",
       "      <td>This pillow saved my back. I love the look and...</td>\n",
       "      <td>pillow saved back love look feel pillow</td>\n",
       "    </tr>\n",
       "    <tr>\n",
       "      <th>3</th>\n",
       "      <td>Missing information on how to use it, but it i...</td>\n",
       "      <td>Missing information use great product price</td>\n",
       "    </tr>\n",
       "    <tr>\n",
       "      <th>4</th>\n",
       "      <td>Very nice set. Good quality. We have had the s...</td>\n",
       "      <td>nice set Good quality set two months</td>\n",
       "    </tr>\n",
       "  </tbody>\n",
       "</table>\n",
       "</div>"
      ],
      "text/plain": [
       "                                               text_  \\\n",
       "0  Love this!  Well made, sturdy, and very comfor...   \n",
       "1  love it, a great upgrade from the original.  I...   \n",
       "2  This pillow saved my back. I love the look and...   \n",
       "3  Missing information on how to use it, but it i...   \n",
       "4  Very nice set. Good quality. We have had the s...   \n",
       "\n",
       "                                          afterclean  \n",
       "0  Love Well made sturdy comfortable love itVery ...  \n",
       "1  love great upgrade original Ive mine couple years  \n",
       "2            pillow saved back love look feel pillow  \n",
       "3        Missing information use great product price  \n",
       "4               nice set Good quality set two months  "
      ]
     },
     "execution_count": 13,
     "metadata": {},
     "output_type": "execute_result"
    }
   ],
   "source": [
    "df[['text_','afterclean']].head() #here you compare say the first sentence(Love this! Well made.....) stopwords like 'this' present in the text_column has been removed in the afterclean column also special characters like exclamation mark has been removed\n",
    "#so this marks the ending of removing punctuation and stopwords.  "
   ]
  },
  {
   "cell_type": "code",
   "execution_count": 14,
   "id": "2eae2af8",
   "metadata": {},
   "outputs": [],
   "source": [
    "#but we don't want to create a new column instead we are editing the text_ column and changes will be in that column only so I am now deleting the afterclean column.\n",
    "df.drop(\"afterclean\",axis=1,inplace=True)"
   ]
  },
  {
   "cell_type": "code",
   "execution_count": 15,
   "id": "bf442e1e",
   "metadata": {},
   "outputs": [],
   "source": [
    "#now again after understanding the above things we will apply the same to the text_ columns\n",
    "df['text_'] = df['text_'].apply(lambda x:clean_text(x))"
   ]
  },
  {
   "cell_type": "code",
   "execution_count": 16,
   "id": "fb638a18",
   "metadata": {},
   "outputs": [
    {
     "data": {
      "text/html": [
       "<div>\n",
       "<style scoped>\n",
       "    .dataframe tbody tr th:only-of-type {\n",
       "        vertical-align: middle;\n",
       "    }\n",
       "\n",
       "    .dataframe tbody tr th {\n",
       "        vertical-align: top;\n",
       "    }\n",
       "\n",
       "    .dataframe thead th {\n",
       "        text-align: right;\n",
       "    }\n",
       "</style>\n",
       "<table border=\"1\" class=\"dataframe\">\n",
       "  <thead>\n",
       "    <tr style=\"text-align: right;\">\n",
       "      <th></th>\n",
       "      <th>category</th>\n",
       "      <th>rating</th>\n",
       "      <th>label</th>\n",
       "      <th>text_</th>\n",
       "    </tr>\n",
       "  </thead>\n",
       "  <tbody>\n",
       "    <tr>\n",
       "      <th>0</th>\n",
       "      <td>Home_and_Kitchen_5</td>\n",
       "      <td>5.0</td>\n",
       "      <td>CG</td>\n",
       "      <td>Love Well made sturdy comfortable love itVery ...</td>\n",
       "    </tr>\n",
       "    <tr>\n",
       "      <th>1</th>\n",
       "      <td>Home_and_Kitchen_5</td>\n",
       "      <td>5.0</td>\n",
       "      <td>CG</td>\n",
       "      <td>love great upgrade original Ive mine couple years</td>\n",
       "    </tr>\n",
       "    <tr>\n",
       "      <th>2</th>\n",
       "      <td>Home_and_Kitchen_5</td>\n",
       "      <td>5.0</td>\n",
       "      <td>CG</td>\n",
       "      <td>pillow saved back love look feel pillow</td>\n",
       "    </tr>\n",
       "    <tr>\n",
       "      <th>3</th>\n",
       "      <td>Home_and_Kitchen_5</td>\n",
       "      <td>1.0</td>\n",
       "      <td>CG</td>\n",
       "      <td>Missing information use great product price</td>\n",
       "    </tr>\n",
       "    <tr>\n",
       "      <th>4</th>\n",
       "      <td>Home_and_Kitchen_5</td>\n",
       "      <td>5.0</td>\n",
       "      <td>CG</td>\n",
       "      <td>nice set Good quality set two months</td>\n",
       "    </tr>\n",
       "  </tbody>\n",
       "</table>\n",
       "</div>"
      ],
      "text/plain": [
       "             category  rating label  \\\n",
       "0  Home_and_Kitchen_5     5.0    CG   \n",
       "1  Home_and_Kitchen_5     5.0    CG   \n",
       "2  Home_and_Kitchen_5     5.0    CG   \n",
       "3  Home_and_Kitchen_5     1.0    CG   \n",
       "4  Home_and_Kitchen_5     5.0    CG   \n",
       "\n",
       "                                               text_  \n",
       "0  Love Well made sturdy comfortable love itVery ...  \n",
       "1  love great upgrade original Ive mine couple years  \n",
       "2            pillow saved back love look feel pillow  \n",
       "3        Missing information use great product price  \n",
       "4               nice set Good quality set two months  "
      ]
     },
     "execution_count": 16,
     "metadata": {},
     "output_type": "execute_result"
    }
   ],
   "source": [
    "df.head() #reqd op below"
   ]
  },
  {
   "cell_type": "code",
   "execution_count": 17,
   "id": "f3ec2621",
   "metadata": {},
   "outputs": [],
   "source": [
    "df['text_'] = df['text_'].astype(str) #The code df['text_'] = df['text_'].astype(str) is converting the values in the 'text_' column of our Pandas DataFrame (df) to strings. Specifically, it's using the astype method to cast the values to the str type."
   ]
  },
  {
   "cell_type": "code",
   "execution_count": 18,
   "id": "5f80fa41",
   "metadata": {},
   "outputs": [],
   "source": [
    "def preprocess(text):\n",
    "    return ' '.join([word for word in word_tokenize(text) if word not in stopwords.words('english') and not word.isdigit() and word not in string.punctuation])\n",
    "#the above function will tokenize,remove stopwords, remove numeric values,remove punctuation some of these function i have performed already like punctuation removal etc above ,anyways it will have no effects."
   ]
  },
  {
   "cell_type": "code",
   "execution_count": 19,
   "id": "5e62582d",
   "metadata": {},
   "outputs": [],
   "source": [
    "df['text_'] = df['text_'].str.lower() #converting everything to lower case\n"
   ]
  },
  {
   "cell_type": "code",
   "execution_count": 20,
   "id": "28492b34",
   "metadata": {},
   "outputs": [
    {
     "data": {
      "text/plain": [
       "'love well made sturdy comfortable love itvery pretty'"
      ]
     },
     "execution_count": 20,
     "metadata": {},
     "output_type": "execute_result"
    }
   ],
   "source": [
    "preprocess(df['text_'][0])"
   ]
  },
  {
   "cell_type": "code",
   "execution_count": null,
   "id": "01dbd843",
   "metadata": {},
   "outputs": [],
   "source": [
    "#Now we are gonna apply the preprocess function on all rows \n",
    "#but we will apply it to every 10000 rows one by one total 4 times as our data set has around 40k rows. Applying a function to a smaller subset of the data is generally faster than applying it to the entire column, especially when dealing with large datasets. This can be crucial for optimizing the runtime of your code.\n",
    "df['text_'][:10000] = df['text_'][:10000].apply(preprocess)"
   ]
  },
  {
   "cell_type": "code",
   "execution_count": null,
   "id": "c09c05f8",
   "metadata": {},
   "outputs": [],
   "source": [
    "df['text_'][10001:20000] = df['text_'][10001:20000].apply(preprocess)"
   ]
  },
  {
   "cell_type": "code",
   "execution_count": null,
   "id": "6f921340",
   "metadata": {},
   "outputs": [],
   "source": [
    "df['text_'][20001:30000] = df['text_'][20001:30000].apply(preprocess)"
   ]
  },
  {
   "cell_type": "code",
   "execution_count": null,
   "id": "060e9c5d",
   "metadata": {},
   "outputs": [],
   "source": [
    "df['text_'][30001:40000] = df['text_'][30001:40000].apply(preprocess)"
   ]
  },
  {
   "cell_type": "code",
   "execution_count": null,
   "id": "0201a188",
   "metadata": {},
   "outputs": [],
   "source": [
    "df['text_'][40001:40432] = df['text_'][40001:40432].apply(preprocess)"
   ]
  },
  {
   "cell_type": "code",
   "execution_count": 54,
   "id": "5a29aa1b",
   "metadata": {},
   "outputs": [
    {
     "data": {
      "text/html": [
       "<div>\n",
       "<style scoped>\n",
       "    .dataframe tbody tr th:only-of-type {\n",
       "        vertical-align: middle;\n",
       "    }\n",
       "\n",
       "    .dataframe tbody tr th {\n",
       "        vertical-align: top;\n",
       "    }\n",
       "\n",
       "    .dataframe thead th {\n",
       "        text-align: right;\n",
       "    }\n",
       "</style>\n",
       "<table border=\"1\" class=\"dataframe\">\n",
       "  <thead>\n",
       "    <tr style=\"text-align: right;\">\n",
       "      <th></th>\n",
       "      <th>category</th>\n",
       "      <th>rating</th>\n",
       "      <th>label</th>\n",
       "      <th>text_</th>\n",
       "    </tr>\n",
       "  </thead>\n",
       "  <tbody>\n",
       "    <tr>\n",
       "      <th>39833</th>\n",
       "      <td>Clothing_Shoes_and_Jewelry_5</td>\n",
       "      <td>4.0</td>\n",
       "      <td>OR</td>\n",
       "      <td>bought month one month old found littl tight a...</td>\n",
       "    </tr>\n",
       "    <tr>\n",
       "      <th>15144</th>\n",
       "      <td>Movies_and_TV_5</td>\n",
       "      <td>5.0</td>\n",
       "      <td>OR</td>\n",
       "      <td>love dvd rodney yee dvd gaiam becom favorit pr...</td>\n",
       "    </tr>\n",
       "    <tr>\n",
       "      <th>8639</th>\n",
       "      <td>Electronics_5</td>\n",
       "      <td>5.0</td>\n",
       "      <td>OR</td>\n",
       "      <td>great product highli reliabl durabl afford pri...</td>\n",
       "    </tr>\n",
       "    <tr>\n",
       "      <th>17036</th>\n",
       "      <td>Tools_and_Home_Improvement_5</td>\n",
       "      <td>4.0</td>\n",
       "      <td>OR</td>\n",
       "      <td>use scale plastic model use quarter probabl su...</td>\n",
       "    </tr>\n",
       "    <tr>\n",
       "      <th>37266</th>\n",
       "      <td>Clothing_Shoes_and_Jewelry_5</td>\n",
       "      <td>5.0</td>\n",
       "      <td>OR</td>\n",
       "      <td>shoe smart look fit comfort ive alway found an...</td>\n",
       "    </tr>\n",
       "  </tbody>\n",
       "</table>\n",
       "</div>"
      ],
      "text/plain": [
       "                           category  rating label  \\\n",
       "39833  Clothing_Shoes_and_Jewelry_5     4.0    OR   \n",
       "15144               Movies_and_TV_5     5.0    OR   \n",
       "8639                  Electronics_5     5.0    OR   \n",
       "17036  Tools_and_Home_Improvement_5     4.0    OR   \n",
       "37266  Clothing_Shoes_and_Jewelry_5     5.0    OR   \n",
       "\n",
       "                                                   text_  \n",
       "39833  bought month one month old found littl tight a...  \n",
       "15144  love dvd rodney yee dvd gaiam becom favorit pr...  \n",
       "8639   great product highli reliabl durabl afford pri...  \n",
       "17036  use scale plastic model use quarter probabl su...  \n",
       "37266  shoe smart look fit comfort ive alway found an...  "
      ]
     },
     "execution_count": 54,
     "metadata": {},
     "output_type": "execute_result"
    }
   ],
   "source": [
    "df.sample(frac=1).head(5) #see random rows"
   ]
  },
  {
   "cell_type": "code",
   "execution_count": 27,
   "id": "d9a3092e",
   "metadata": {},
   "outputs": [],
   "source": [
    "# STEMMING PART\n",
    "# Stemming is a text normalization technique that involves reducing words to their base or root form. The goal of stemming is to group words with similar meanings together, even if they are not spelled exactly the same way. This helps in reducing the dimensionality of the feature space in text analysis and improves the efficiency of various NLP tasks.\n",
    "\n",
    "#WE ARE GOING TO USE A FAMOUS ALGO KNOWN AS PORTERS ALGO FOR STEMMING\n",
    "\n",
    "# The Porter Stemmer is a widely used stemming algorithm developed by Martin Porter in 1980. It is a rule-based algorithm designed to reduce words to their base or root form by removing common suffixes. The goal is to group words with similar meanings together.\n",
    "\n",
    "stemmer = PorterStemmer()\n",
    "def stem_words(text):\n",
    "    return ' '.join([stemmer.stem(word) for word in text.split()])\n",
    "df['text_'] = df['text_'].apply(lambda x: stem_words(x))\n"
   ]
  },
  {
   "cell_type": "code",
   "execution_count": 48,
   "id": "be13391b",
   "metadata": {},
   "outputs": [],
   "source": [
    "#LEMMATIZATION PART\n",
    "# Lemmatization is another text normalization technique in natural language processing (NLP), similar to stemming. However, instead of simply removing suffixes as in stemming, lemmatization aims to reduce words to their base or canonical form, known as the lemma. The lemma represents the dictionary or canonical form of a word, making it a valid word.\n",
    "\n",
    "#In short what we lemmitize will be availaible in the english dictionary :)\n",
    "\n",
    "lemmatizer = WordNetLemmatizer()\n",
    "def lemmatize_words(text):\n",
    "    return ' '.join([lemmatizer.lemmatize(word) for word in text.split()])\n",
    "df[\"text_\"] = df[\"text_\"].apply(lambda text: lemmatize_words(text))\n"
   ]
  },
  {
   "cell_type": "code",
   "execution_count": 50,
   "id": "02068cfb",
   "metadata": {},
   "outputs": [
    {
     "data": {
      "text/html": [
       "<div>\n",
       "<style scoped>\n",
       "    .dataframe tbody tr th:only-of-type {\n",
       "        vertical-align: middle;\n",
       "    }\n",
       "\n",
       "    .dataframe tbody tr th {\n",
       "        vertical-align: top;\n",
       "    }\n",
       "\n",
       "    .dataframe thead th {\n",
       "        text-align: right;\n",
       "    }\n",
       "</style>\n",
       "<table border=\"1\" class=\"dataframe\">\n",
       "  <thead>\n",
       "    <tr style=\"text-align: right;\">\n",
       "      <th></th>\n",
       "      <th>category</th>\n",
       "      <th>rating</th>\n",
       "      <th>label</th>\n",
       "      <th>text_</th>\n",
       "    </tr>\n",
       "  </thead>\n",
       "  <tbody>\n",
       "    <tr>\n",
       "      <th>0</th>\n",
       "      <td>Home_and_Kitchen_5</td>\n",
       "      <td>5.0</td>\n",
       "      <td>CG</td>\n",
       "      <td>love well made sturdi comfort love itveri pretti</td>\n",
       "    </tr>\n",
       "    <tr>\n",
       "      <th>1</th>\n",
       "      <td>Home_and_Kitchen_5</td>\n",
       "      <td>5.0</td>\n",
       "      <td>CG</td>\n",
       "      <td>love great upgrad origin ive mine coupl year</td>\n",
       "    </tr>\n",
       "    <tr>\n",
       "      <th>2</th>\n",
       "      <td>Home_and_Kitchen_5</td>\n",
       "      <td>5.0</td>\n",
       "      <td>CG</td>\n",
       "      <td>pillow save back love look feel pillow</td>\n",
       "    </tr>\n",
       "    <tr>\n",
       "      <th>3</th>\n",
       "      <td>Home_and_Kitchen_5</td>\n",
       "      <td>1.0</td>\n",
       "      <td>CG</td>\n",
       "      <td>miss inform use great product price</td>\n",
       "    </tr>\n",
       "    <tr>\n",
       "      <th>4</th>\n",
       "      <td>Home_and_Kitchen_5</td>\n",
       "      <td>5.0</td>\n",
       "      <td>CG</td>\n",
       "      <td>nice set good qualiti set two month</td>\n",
       "    </tr>\n",
       "    <tr>\n",
       "      <th>5</th>\n",
       "      <td>Home_and_Kitchen_5</td>\n",
       "      <td>3.0</td>\n",
       "      <td>CG</td>\n",
       "      <td>want differ flavor</td>\n",
       "    </tr>\n",
       "    <tr>\n",
       "      <th>6</th>\n",
       "      <td>Home_and_Kitchen_5</td>\n",
       "      <td>5.0</td>\n",
       "      <td>CG</td>\n",
       "      <td>perfect touch thing wish littl space</td>\n",
       "    </tr>\n",
       "    <tr>\n",
       "      <th>7</th>\n",
       "      <td>Home_and_Kitchen_5</td>\n",
       "      <td>3.0</td>\n",
       "      <td>CG</td>\n",
       "      <td>done fit well look great love smooth edg extra</td>\n",
       "    </tr>\n",
       "    <tr>\n",
       "      <th>8</th>\n",
       "      <td>Home_and_Kitchen_5</td>\n",
       "      <td>5.0</td>\n",
       "      <td>CG</td>\n",
       "      <td>great big number easi read thing didnt like size</td>\n",
       "    </tr>\n",
       "    <tr>\n",
       "      <th>9</th>\n",
       "      <td>Home_and_Kitchen_5</td>\n",
       "      <td>5.0</td>\n",
       "      <td>CG</td>\n",
       "      <td>son love comfort well made also babi</td>\n",
       "    </tr>\n",
       "    <tr>\n",
       "      <th>10</th>\n",
       "      <td>Home_and_Kitchen_5</td>\n",
       "      <td>5.0</td>\n",
       "      <td>CG</td>\n",
       "      <td>advertis 5th one ive problem realli</td>\n",
       "    </tr>\n",
       "    <tr>\n",
       "      <th>11</th>\n",
       "      <td>Home_and_Kitchen_5</td>\n",
       "      <td>5.0</td>\n",
       "      <td>CG</td>\n",
       "      <td>handi one kid tool includ packag one</td>\n",
       "    </tr>\n",
       "    <tr>\n",
       "      <th>12</th>\n",
       "      <td>Home_and_Kitchen_5</td>\n",
       "      <td>5.0</td>\n",
       "      <td>CG</td>\n",
       "      <td>someon say orient great product</td>\n",
       "    </tr>\n",
       "    <tr>\n",
       "      <th>13</th>\n",
       "      <td>Home_and_Kitchen_5</td>\n",
       "      <td>1.0</td>\n",
       "      <td>CG</td>\n",
       "      <td>flimsi qualiti would expect piec furnitur</td>\n",
       "    </tr>\n",
       "    <tr>\n",
       "      <th>14</th>\n",
       "      <td>Home_and_Kitchen_5</td>\n",
       "      <td>5.0</td>\n",
       "      <td>CG</td>\n",
       "      <td>make may tea stir problem kind hard put</td>\n",
       "    </tr>\n",
       "    <tr>\n",
       "      <th>15</th>\n",
       "      <td>Home_and_Kitchen_5</td>\n",
       "      <td>5.0</td>\n",
       "      <td>CG</td>\n",
       "      <td>absolut ador excel price wooden one month</td>\n",
       "    </tr>\n",
       "    <tr>\n",
       "      <th>16</th>\n",
       "      <td>Home_and_Kitchen_5</td>\n",
       "      <td>5.0</td>\n",
       "      <td>CG</td>\n",
       "      <td>love perfect size entir familyveri good qualiti</td>\n",
       "    </tr>\n",
       "    <tr>\n",
       "      <th>17</th>\n",
       "      <td>Home_and_Kitchen_5</td>\n",
       "      <td>5.0</td>\n",
       "      <td>CG</td>\n",
       "      <td>look beauti nice problem realli mesh one</td>\n",
       "    </tr>\n",
       "    <tr>\n",
       "      <th>18</th>\n",
       "      <td>Home_and_Kitchen_5</td>\n",
       "      <td>5.0</td>\n",
       "      <td>CG</td>\n",
       "      <td>exactli would expect love look feel pillow</td>\n",
       "    </tr>\n",
       "    <tr>\n",
       "      <th>19</th>\n",
       "      <td>Home_and_Kitchen_5</td>\n",
       "      <td>5.0</td>\n",
       "      <td>CG</td>\n",
       "      <td>star would highli recommend item love blanket</td>\n",
       "    </tr>\n",
       "  </tbody>\n",
       "</table>\n",
       "</div>"
      ],
      "text/plain": [
       "              category  rating label  \\\n",
       "0   Home_and_Kitchen_5     5.0    CG   \n",
       "1   Home_and_Kitchen_5     5.0    CG   \n",
       "2   Home_and_Kitchen_5     5.0    CG   \n",
       "3   Home_and_Kitchen_5     1.0    CG   \n",
       "4   Home_and_Kitchen_5     5.0    CG   \n",
       "5   Home_and_Kitchen_5     3.0    CG   \n",
       "6   Home_and_Kitchen_5     5.0    CG   \n",
       "7   Home_and_Kitchen_5     3.0    CG   \n",
       "8   Home_and_Kitchen_5     5.0    CG   \n",
       "9   Home_and_Kitchen_5     5.0    CG   \n",
       "10  Home_and_Kitchen_5     5.0    CG   \n",
       "11  Home_and_Kitchen_5     5.0    CG   \n",
       "12  Home_and_Kitchen_5     5.0    CG   \n",
       "13  Home_and_Kitchen_5     1.0    CG   \n",
       "14  Home_and_Kitchen_5     5.0    CG   \n",
       "15  Home_and_Kitchen_5     5.0    CG   \n",
       "16  Home_and_Kitchen_5     5.0    CG   \n",
       "17  Home_and_Kitchen_5     5.0    CG   \n",
       "18  Home_and_Kitchen_5     5.0    CG   \n",
       "19  Home_and_Kitchen_5     5.0    CG   \n",
       "\n",
       "                                               text_  \n",
       "0   love well made sturdi comfort love itveri pretti  \n",
       "1       love great upgrad origin ive mine coupl year  \n",
       "2             pillow save back love look feel pillow  \n",
       "3                miss inform use great product price  \n",
       "4                nice set good qualiti set two month  \n",
       "5                                 want differ flavor  \n",
       "6               perfect touch thing wish littl space  \n",
       "7     done fit well look great love smooth edg extra  \n",
       "8   great big number easi read thing didnt like size  \n",
       "9               son love comfort well made also babi  \n",
       "10               advertis 5th one ive problem realli  \n",
       "11              handi one kid tool includ packag one  \n",
       "12                   someon say orient great product  \n",
       "13         flimsi qualiti would expect piec furnitur  \n",
       "14           make may tea stir problem kind hard put  \n",
       "15         absolut ador excel price wooden one month  \n",
       "16   love perfect size entir familyveri good qualiti  \n",
       "17          look beauti nice problem realli mesh one  \n",
       "18        exactli would expect love look feel pillow  \n",
       "19     star would highli recommend item love blanket  "
      ]
     },
     "execution_count": 50,
     "metadata": {},
     "output_type": "execute_result"
    }
   ],
   "source": [
    "df.head(20)"
   ]
  },
  {
   "cell_type": "code",
   "execution_count": 53,
   "id": "16f336df",
   "metadata": {},
   "outputs": [
    {
     "data": {
      "text/plain": [
       "0     love well made sturdi comfort love itveri pretti\n",
       "1         love great upgrad origin ive mine coupl year\n",
       "2               pillow save back love look feel pillow\n",
       "3                  miss inform use great product price\n",
       "4                  nice set good qualiti set two month\n",
       "5                                   want differ flavor\n",
       "6                 perfect touch thing wish littl space\n",
       "7       done fit well look great love smooth edg extra\n",
       "8     great big number easi read thing didnt like size\n",
       "9                 son love comfort well made also babi\n",
       "10                 advertis 5th one ive problem realli\n",
       "11                handi one kid tool includ packag one\n",
       "12                     someon say orient great product\n",
       "13           flimsi qualiti would expect piec furnitur\n",
       "14             make may tea stir problem kind hard put\n",
       "15           absolut ador excel price wooden one month\n",
       "16     love perfect size entir familyveri good qualiti\n",
       "17            look beauti nice problem realli mesh one\n",
       "18          exactli would expect love look feel pillow\n",
       "19       star would highli recommend item love blanket\n",
       "Name: text_, dtype: object"
      ]
     },
     "execution_count": 53,
     "metadata": {},
     "output_type": "execute_result"
    }
   ],
   "source": [
    "df[\"text_\"].head(20)"
   ]
  },
  {
   "cell_type": "code",
   "execution_count": 58,
   "id": "29d35c7d",
   "metadata": {},
   "outputs": [],
   "source": [
    "#Now i think the dataset is ready for making the model so next we need to save it in a csv file.\n",
    "df.to_csv('PreprocessedDataset.csv')\n",
    "#Preprocessing Done 20-02-24"
   ]
  },
  {
   "cell_type": "code",
   "execution_count": null,
   "id": "aef7ee9c",
   "metadata": {},
   "outputs": [],
   "source": []
  }
 ],
 "metadata": {
  "kernelspec": {
   "display_name": "Python 3 (ipykernel)",
   "language": "python",
   "name": "python3"
  },
  "language_info": {
   "codemirror_mode": {
    "name": "ipython",
    "version": 3
   },
   "file_extension": ".py",
   "mimetype": "text/x-python",
   "name": "python",
   "nbconvert_exporter": "python",
   "pygments_lexer": "ipython3",
   "version": "3.12.1"
  }
 },
 "nbformat": 4,
 "nbformat_minor": 5
}
